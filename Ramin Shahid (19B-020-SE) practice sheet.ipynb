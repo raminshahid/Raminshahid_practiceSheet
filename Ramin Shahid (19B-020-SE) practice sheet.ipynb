{
 "cells": [
  {
   "cell_type": "markdown",
   "metadata": {},
   "source": [
    "# Python User Define Function Practice Activity - 2 "
   ]
  },
  {
   "cell_type": "markdown",
   "metadata": {},
   "source": [
    "Asst. Prof. Syed Faisal Ali              $\\;\\;\\;\\;\\;\\;$              Programming Fundamentals - FALL 2019 $\\;\\;\\;\\;\\;\\;$ Software Engineering                     $\\;\\;\\;\\;\\;\\;$                   Dated: 27 Nov 2019"
   ]
  },
  {
   "cell_type": "markdown",
   "metadata": {},
   "source": [
    "Question 1: Create a function to find the following:\n",
    "If the base of triangle is 3 cm long and its equilateral triangle and the radius of circle is 1.5 cm then find the area of triangle shaded. \n"
   ]
  },
  {
   "cell_type": "markdown",
   "metadata": {},
   "source": [
    "![proj](q1.jpg)"
   ]
  },
  {
   "cell_type": "code",
   "execution_count": 23,
   "metadata": {},
   "outputs": [
    {
     "name": "stdout",
     "output_type": "stream",
     "text": [
      "Area of Shaded Region =  16.313185902179846 cm**2\n"
     ]
    }
   ],
   "source": [
    "from math import sqrt\n",
    "def areas():\n",
    "    pi=3.142\n",
    "    base_t = 3\n",
    "    radius_c = 1.5\n",
    "    height_t = sqrt(3**2 - 1.5**2)\n",
    "    Area_T = 6 * (.5 * base_t * height_t)\n",
    "    Area_C = pi * radius_c**2\n",
    "    Shaded = Area_T-Area_C\n",
    "    print(\"Area of Shaded Region = \",Shaded,\"cm**2\")\n",
    "    \n",
    "areas()"
   ]
  },
  {
   "cell_type": "markdown",
   "metadata": {},
   "source": [
    "Question 2: Create a function which can read a dictionary of your family members such as 5 members. \n",
    "1 Abbu, 1 Ammi, 2 Brothers 1 Sister. Now feed this data in dictionary in terms of name and relations.\n",
    "The UDF will ask findrelation() in this you will enter Brother it will return the names of two brothers you have inserted. In case if the relation is not found it will return “Sorry the relation doesn’t exist in your family.” \n"
   ]
  },
  {
   "cell_type": "code",
   "execution_count": 21,
   "metadata": {},
   "outputs": [
    {
     "name": "stdout",
     "output_type": "stream",
     "text": [
      "['Mujeeb', 'Saboor']\n"
     ]
    }
   ],
   "source": [
    "def findrelation(Relation):\n",
    "    family = {'father' : ['Nayyer'] , 'mother' : ['XYZ'] ,'brothers' : ['Mujeeb','Saboor'] , 'sister' : ['ABC']  }\n",
    "    if Relation.lower() in family:\n",
    "        print(family.get(Relation.lower()))\n",
    "    else:\n",
    "        print(\"Sorry Relation Does not exist in your family\")\n",
    "findrelation('Brothers')\n",
    "\n",
    "    \n",
    "\n",
    "\n",
    "    \n"
   ]
  },
  {
   "cell_type": "markdown",
   "metadata": {},
   "source": [
    "Question 3: Create a function to find the following:\n",
    "If the base of triangle is 5 cm long and its equilateral triangle and the radius of circle is 2.25 cm then find the area of triangle shaded. \n"
   ]
  },
  {
   "cell_type": "markdown",
   "metadata": {},
   "source": [
    "![proj](q3.jpg)"
   ]
  },
  {
   "cell_type": "code",
   "execution_count": 12,
   "metadata": {},
   "outputs": [
    {
     "name": "stdout",
     "output_type": "stream",
     "text": [
      "Area of shaded region =  15.904312808798327 cm**2\n"
     ]
    }
   ],
   "source": [
    "from math import sqrt\n",
    "\n",
    "def area():\n",
    "    base_t = 5\n",
    "    radius_c = 2.25\n",
    "    height_t = sqrt(3**2 - 1.5**2)\n",
    "    area_T = 6 * (.5 * base_t * height_t)\n",
    "    area_C = pi * radius_c**2\n",
    "    \n",
    "    print(\"Area of shaded region = \",area_C,\"cm**2\")\n",
    "    \n",
    "area()\n"
   ]
  },
  {
   "cell_type": "markdown",
   "metadata": {},
   "source": [
    "Question 4:\n",
    "Create a function that takes a list of random numbers from users and add only those which are even. If all the numbers are odd it will return sorry no even number found.\n"
   ]
  },
  {
   "cell_type": "code",
   "execution_count": 10,
   "metadata": {},
   "outputs": [
    {
     "name": "stdout",
     "output_type": "stream",
     "text": [
      "Enter the Numbers : 3\n",
      "Enter the Numbers : 6\n",
      "Enter the Numbers : 8\n",
      "Enter the Numbers : 4\n",
      "Sum of even numbers=  18\n"
     ]
    }
   ],
   "source": [
    "def even():\n",
    "    x = ['','','','']\n",
    "    sum = 0\n",
    "    for i in range(4):\n",
    "        x[i]=int(input(\"Enter the Numbers : \"))\n",
    "    \n",
    "    for i in x:\n",
    "        if i%2==0:\n",
    "            sum = sum + i\n",
    "    print(\"Sum of even numbers= \",sum)\n",
    "even()"
   ]
  },
  {
   "cell_type": "markdown",
   "metadata": {},
   "source": [
    "Question 5:\n",
    "Write a function which can take a list of numbers and it will return sorted list.\n"
   ]
  },
  {
   "cell_type": "code",
   "execution_count": 8,
   "metadata": {},
   "outputs": [
    {
     "name": "stdout",
     "output_type": "stream",
     "text": [
      "Enter the Numbers : 4\n",
      "Enter the Numbers : 8\n",
      "Enter the Numbers : 2\n",
      "Enter the Numbers : 3\n",
      "[2, 3, 4, 8]\n"
     ]
    }
   ],
   "source": [
    "def sort():\n",
    "    x = ['','','','']\n",
    "    sum = 0\n",
    "    for i in range(4):\n",
    "        x[i]=int(input(\"Enter the Numbers : \"))\n",
    "    x.sort()\n",
    "    print(x)\n",
    "sort()"
   ]
  },
  {
   "cell_type": "markdown",
   "metadata": {},
   "source": [
    "Question 6:\n",
    "Write a function that will take the radius and return the perimeter and area of circle with 5% increment.\n"
   ]
  },
  {
   "cell_type": "code",
   "execution_count": 7,
   "metadata": {},
   "outputs": [
    {
     "name": "stdout",
     "output_type": "stream",
     "text": [
      "Original Area :  12.566370614359172 cm**2\n",
      "Area with 5% increment :  13.194689145077133 cm**2\n",
      "\n",
      "Original Perimeter :  12.566370614359172 cm\n",
      "Perimeter with 5% increment :  13.194689145077133 cm\n"
     ]
    }
   ],
   "source": [
    "from math import pi\n",
    "def inc(r):\n",
    "    Original_area = pi * r**2\n",
    "    Original_peri = 2 * pi * r\n",
    "    Area1= (Original_area/100)*105\n",
    "    Perimeter1 = (Original_peri/100)*105\n",
    "    print(\"Original Area : \",Original_area,\"cm**2\")\n",
    "    print(\"Area with 5% increment : \",Area1,\"cm**2\")\n",
    "    print()\n",
    "    print(\"Original Perimeter : \",Original_peri,\"cm\")\n",
    "    print(\"Perimeter with 5% increment : \",Perimeter1,\"cm\")\n",
    "inc(2)"
   ]
  },
  {
   "cell_type": "markdown",
   "metadata": {},
   "source": [
    "Question 7:\n",
    "Write a function that will take the strings as argument and return number of vowels and consonants.\n"
   ]
  },
  {
   "cell_type": "code",
   "execution_count": 1,
   "metadata": {},
   "outputs": [
    {
     "name": "stdout",
     "output_type": "stream",
     "text": [
      "Enter a String : Ramin\n",
      "Total Number of Vowels :  2\n",
      "Total Number of Constant :  3\n"
     ]
    }
   ],
   "source": [
    "def vowcons():\n",
    "    tot = 0\n",
    "    count = 0\n",
    "    string = str(input(\"Enter a String : \"))\n",
    "    \n",
    "    for i in string:\n",
    "        if i in 'AEIOUaeiou':\n",
    "            tot = tot + 1\n",
    "        else:\n",
    "            count = count + 1\n",
    "    print(\"Total Number of Vowels : \",tot)\n",
    "    print(\"Total Number of Constant : \",count)\n",
    "vowcons()"
   ]
  },
  {
   "cell_type": "markdown",
   "metadata": {},
   "source": [
    "Question 8:\n",
    "Write a function that will take length and breadth for a rectangle and return perimeter and area of rectangle with 8% increment.\n"
   ]
  },
  {
   "cell_type": "code",
   "execution_count": 3,
   "metadata": {},
   "outputs": [
    {
     "name": "stdout",
     "output_type": "stream",
     "text": [
      "Enter length of Rectangle : 6\n",
      "Enter Bredth of Rectangle : 4\n",
      "Original Area:  24 cm**2\n",
      "Area with 8% increment :  25.919999999999998 cm**2\n",
      "\n",
      "Original Perimeter :  20 cm\n",
      "Perimeter with 8% increment :  21.6 cm\n"
     ]
    }
   ],
   "source": [
    "def inc():\n",
    "    l = int(input(\"Enter length of Rectangle : \"))\n",
    "    b = int(input(\"Enter Bredth of Rectangle : \"))\n",
    "    Orignial_area = l * b\n",
    "    Original_peri = 2*l + 2*b\n",
    "    Area2= (Orignial_area/100)*108\n",
    "    Perimeter2 = (Original_peri/100)*108\n",
    "    print(\"Original Area: \",Orignial_area,\"cm**2\")\n",
    "    print(\"Area with 8% increment : \",Area2,\"cm**2\")\n",
    "    print()\n",
    "    print(\"Original Perimeter : \",Original_peri,\"cm\")\n",
    "    print(\"Perimeter with 8% increment : \",Perimeter2,\"cm\")\n",
    "inc()"
   ]
  },
  {
   "cell_type": "markdown",
   "metadata": {},
   "source": [
    "Question 9:\n",
    "Write a function that can take the numbers in strings. From string find which number is even and which one is odd. Save them in two different lists and generate the result.\n"
   ]
  },
  {
   "cell_type": "code",
   "execution_count": 2,
   "metadata": {},
   "outputs": [
    {
     "name": "stdout",
     "output_type": "stream",
     "text": [
      "Enter a Number : 3\n",
      "Enter a Number : 5\n",
      "Enter a Number : 6\n",
      "Enter a Number : 8\n",
      "Enter a Number : 2\n",
      "Even Numbers :  ['6', '8', '2']\n",
      "Odd Numbers  :  ['3', '5']\n"
     ]
    }
   ],
   "source": [
    "def evenodd():\n",
    "    a = []\n",
    "    b = []\n",
    "    for i in range(5):\n",
    "        num = str(input(\"Enter a Number : \"))\n",
    "        if int(num)%2==0:\n",
    "            a.append(num)\n",
    "        else:\n",
    "            b.append(num)\n",
    "    print(\"Even Numbers : \",a)\n",
    "    print(\"Odd Numbers  : \",b)\n",
    "evenodd()"
   ]
  },
  {
   "cell_type": "markdown",
   "metadata": {},
   "source": [
    "Question 10:\n",
    "Write a function which will take the string from the user and return how many alphabets have been used in it and which alphabets are missing.\n"
   ]
  },
  {
   "cell_type": "code",
   "execution_count": 2,
   "metadata": {},
   "outputs": [
    {
     "name": "stdout",
     "output_type": "stream",
     "text": [
      "Number of Alphabets Used :  7\n",
      "Aphabets not used are:\n",
      "['b', 'c', 'f', 'g', 'j', 'k', 'l', 'o', 'p', 'q', 'r', 's', 't', 'u', 'v', 'w', 'x', 'y', 'z']\n"
     ]
    }
   ],
   "source": [
    "def counting(y):\n",
    "    count = 0\n",
    "    x = ['a','b','c','d','e','f','g','h','i','j','k','l','m','n','o','p','q','r','s','t','u','v','w','x','y','z']\n",
    "    z=['']\n",
    "    for i in y:\n",
    "        if i in x and i not in z:\n",
    "            count = count + 1 \n",
    "            c = z.append(i)\n",
    "            x.remove(i)\n",
    "    print(\"Number of Alphabets Used : \" ,count)\n",
    "    print(\"Aphabets not used are:\")\n",
    "    print(x)\n",
    "    \n",
    "counting('RameenShahid')\n"
   ]
  },
  {
   "cell_type": "markdown",
   "metadata": {},
   "source": [
    "Question 11:\n",
    "Write a function that will take verbs in words and return a list of verbs with continuous tense by adding (ing) at the end of each verb.\n"
   ]
  },
  {
   "cell_type": "code",
   "execution_count": 2,
   "metadata": {},
   "outputs": [
    {
     "name": "stdout",
     "output_type": "stream",
     "text": [
      "Enter verbs : play\n",
      "Enter verbs : sleep\n",
      "Enter verbs : eat\n",
      "['playing', 'sleeping', 'eating']\n"
     ]
    }
   ],
   "source": [
    "def ing():\n",
    "    verbs = ['','','']\n",
    "    a = ['','','']\n",
    "    for i in range(3):\n",
    "        verbs[i] = input(\"Enter verbs : \")\n",
    "    \n",
    "    j = 0\n",
    "    for x in verbs:\n",
    "        a[j]=x+\"ing\"\n",
    "        j = j+1\n",
    "    print(a)\n",
    "ing() "
   ]
  },
  {
   "cell_type": "markdown",
   "metadata": {},
   "source": [
    "Question 12:\n",
    "Make a function which can take two radius of circles and find the areas of it and subtract smaller one from larger one and tell the remaining area of circle.\n"
   ]
  },
  {
   "cell_type": "code",
   "execution_count": 18,
   "metadata": {},
   "outputs": [
    {
     "name": "stdout",
     "output_type": "stream",
     "text": [
      "Enter radius  of Circle 1 : 6\n",
      "Enter radius of Circle 2: 3\n",
      "Area of Circle 1=  113.09733552923255 cm**2\n",
      "Area of Circle 2=  28.274333882308138 cm**2\n",
      "After subtracting area of circle from area of square the remaining area is:  84.82300164692441 cm**2\n"
     ]
    }
   ],
   "source": [
    "from math import pi\n",
    "def RemArea():\n",
    "    r1=eval(input(\"Enter radius  of Circle 1 : \"))\n",
    "    r2=eval(input(\"Enter radius of Circle 2: \"))\n",
    "    \n",
    "    Area_circle1 = pi * r1**2\n",
    "    print(\"Area of Circle 1= \",Area_circle1,\"cm**2\")\n",
    "    Area_circle2 = pi * r2**2\n",
    "    print(\"Area of Circle 2= \",Area_circle2,\"cm**2\")\n",
    "    \n",
    "    if Area_circle1 > Area_circle2 :\n",
    "        Remaining_area = Area_circle1-Area_circle2\n",
    "        print(\"After subtracting area of circle from area of square the remaining area is: \",Remaining_area,\"cm**2\")\n",
    "    elif Area_circle2 > Area_circle1 :\n",
    "        Remaining_area= Area_circle2-Area_circle1\n",
    "        print(\"After subtracting area of square from area of circle the remaining area is \",Remaining_area,\"cm**2\")\n",
    "\n",
    "RemArea()"
   ]
  },
  {
   "cell_type": "markdown",
   "metadata": {},
   "source": [
    "Question 13:\n",
    "Write a function that will take a string and calculate number of Upper case letters and lower case letters.\n"
   ]
  },
  {
   "cell_type": "code",
   "execution_count": 4,
   "metadata": {},
   "outputs": [
    {
     "name": "stdout",
     "output_type": "stream",
     "text": [
      "Enter a String : Ramin Shahid\n",
      "Total Number of uppercase letters:  2\n",
      "Total Number of lowercase letters:  9\n"
     ]
    }
   ],
   "source": [
    "def calculate():\n",
    "    tot = 0\n",
    "    count = 0\n",
    "    string = input(\"Enter a String : \")\n",
    "    \n",
    "    for i in string:\n",
    "        if i in 'ABCDEFGHIJKLMNOPQRSTUVWXYZ':\n",
    "            tot = tot + 1\n",
    "        else:\n",
    "            if i in 'abbcdefghijklmnopqrstuvwxyz':\n",
    "                count = count + 1\n",
    "    print(\"Total Number of uppercase letters: \",tot)\n",
    "    print(\"Total Number of lowercase letters: \",count)\n",
    "calculate()"
   ]
  },
  {
   "cell_type": "markdown",
   "metadata": {},
   "source": [
    "Question 14:\n",
    "Write a function which will take length and breadth of two rectangles. Subtract the smaller rectangle from the larger rectangle and return the area left behind.\n"
   ]
  },
  {
   "cell_type": "code",
   "execution_count": 6,
   "metadata": {},
   "outputs": [
    {
     "name": "stdout",
     "output_type": "stream",
     "text": [
      "Length of Rectangle 1 : 4\n",
      "Bredth of Rectangle 1 : 5\n",
      "Length of Rectangle 2 : 3\n",
      "Bredth of Rectangle 2 : 2\n",
      "Area of bigger rectangle subtracted from smaller rectangle is:  14 cm**2\n"
     ]
    }
   ],
   "source": [
    "def area():\n",
    "    len1=int(input(\"Length of Rectangle 1 : \"))\n",
    "    b1=int(input(\"Bredth of Rectangle 1 : \"))\n",
    "    len2=int(input(\"Length of Rectangle 2 : \"))\n",
    "    b2=int(input(\"Bredth of Rectangle 2 : \"))\n",
    "    area_1 = len1*b1\n",
    "    area_2 = len2*b2\n",
    "    if area_1 > area_2:\n",
    "        Remaining_area = area_1-area_2\n",
    "        print(\"Area of bigger rectangle subtracted from smaller rectangle is: \",Remaining_area,\"cm**2\")\n",
    "    elif area_2 > area_1:\n",
    "        Remaining_area = area_2-area_1\n",
    "        print(\"Area of bigger rectangle subtracted from smaller rectangle is: \",Remaining_area,\"cm**2\")  \n",
    "area()"
   ]
  },
  {
   "cell_type": "markdown",
   "metadata": {},
   "source": [
    "Question 15:\n",
    "Create a function that can add the fractions in series such as 1 to 8 = 1/8+1/7+1/6+1/5 …… ½ and return the result in fraction not in decimal.\n"
   ]
  },
  {
   "cell_type": "code",
   "execution_count": 7,
   "metadata": {},
   "outputs": [
    {
     "name": "stdout",
     "output_type": "stream",
     "text": [
      "The sum is:  761/280\n"
     ]
    }
   ],
   "source": [
    "from fractions import Fraction\n",
    "def addfraction():\n",
    "    sum = 0\n",
    "    for x in range(1,9):\n",
    "        sum = sum + Fraction(1,x) \n",
    "        \n",
    "    print(\"The sum is: \",sum)\n",
    "addfraction()"
   ]
  },
  {
   "cell_type": "markdown",
   "metadata": {},
   "source": [
    "Question 16:\n",
    "Write a function which will take height and base for a triangle and \n"
   ]
  },
  {
   "cell_type": "code",
   "execution_count": null,
   "metadata": {},
   "outputs": [],
   "source": []
  },
  {
   "cell_type": "markdown",
   "metadata": {},
   "source": [
    "Question 17:\n",
    "Write a function which will take a list of fruits names. The function will return how many alphabets are repetitive in the names of fruits and how many are unique letters.\n"
   ]
  },
  {
   "cell_type": "code",
   "execution_count": 1,
   "metadata": {},
   "outputs": [
    {
     "name": "stdout",
     "output_type": "stream",
     "text": [
      "Fruit Name : Apple\n",
      "Fruit Name : Banana\n",
      "Fruit Name : Pineapple\n",
      "Number of Unique letters :  9\n",
      "Number of Repetitive Letters :  11\n"
     ]
    }
   ],
   "source": [
    "def repetitive():\n",
    "    a = ['']\n",
    "    count = 0\n",
    "    tot = 0\n",
    "    fruits=['','','','']\n",
    "    for i in range(3):\n",
    "        fruits[i]=input(\"Fruit Name : \")\n",
    "    for i in fruits:\n",
    "        for j in i :\n",
    "            if j in a:\n",
    "                count = count + 1 \n",
    "            if j not in a:\n",
    "                a.append(j)\n",
    "                tot = tot + 1 \n",
    "    print(\"Number of Unique letters : \",tot)\n",
    "    print(\"Number of Repetitive Letters : \",count)\n",
    "repetitive()            "
   ]
  },
  {
   "cell_type": "markdown",
   "metadata": {},
   "source": [
    "Question 18:\n",
    "Write a function that can take square length and radius of circle. Find the area of both and subtract the smallest shape from largest one and return the remaining shape area.\n"
   ]
  },
  {
   "cell_type": "code",
   "execution_count": 4,
   "metadata": {},
   "outputs": [
    {
     "name": "stdout",
     "output_type": "stream",
     "text": [
      "Enter length of square : 6\n",
      "Enter radius of Circle : 4\n",
      "Area of Square = 12.00cm²\n",
      "Area of Circle = 50.27cm²\n",
      "After subtracting area of square from area of circle the remaining Area is:  38.26548245743669 cm**2\n"
     ]
    }
   ],
   "source": [
    "from math import pi\n",
    "def RemArea():\n",
    "    l=float(input(\"Enter length of square : \"))\n",
    "    r=float(input(\"Enter radius of Circle : \"))\n",
    "    Area_square = 2 * l\n",
    "    print(\"Area of Square = {0:.{1}f}cm\\u00b2\".format(Area_square,2))\n",
    "    Area_circle = pi * r**2\n",
    "    print(\"Area of Circle = {0:.{1}f}cm\\u00b2\".format(Area_circle,2))\n",
    "    \n",
    "    if Area_square > Area_circle :\n",
    "        Remaining_area = Area_square-Area_circle\n",
    "        print(\"After subtracting area of circle from area of square the remaining Area is: \",Remaining_area,\"cm**2\")\n",
    "    elif Area_circle > Area_square :\n",
    "        Remaining_area = Area_circle-Area_square\n",
    "        print(\"After subtracting area of square from area of circle the remaining Area is: \",Remaining_area,\"cm**2\")\n",
    "RemArea()"
   ]
  }
 ],
 "metadata": {
  "kernelspec": {
   "display_name": "Python 3",
   "language": "python",
   "name": "python3"
  },
  "language_info": {
   "codemirror_mode": {
    "name": "ipython",
    "version": 3
   },
   "file_extension": ".py",
   "mimetype": "text/x-python",
   "name": "python",
   "nbconvert_exporter": "python",
   "pygments_lexer": "ipython3",
   "version": "3.7.0"
  }
 },
 "nbformat": 4,
 "nbformat_minor": 2
}
